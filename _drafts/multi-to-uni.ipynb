{
 "cells": [
  {
   "cell_type": "markdown",
   "metadata": {},
   "source": [
    "1. what is mle\n",
    "2. mle to uni poly"
   ]
  },
  {
   "cell_type": "markdown",
   "metadata": {},
   "source": [
    "###  Univariate Polynomials and Multilinear Polynomials\n",
    "1. \n",
    "2. An MLE (Multilinear Extension) polynomial $\\tilde{f}: \\{0,1\\}^m \\to \\mathbb{F}_q$ is a class of Multivariate polynomials defined on the Boolean HyperCube $\\{0,1\\}^m$ and maps to a field $\\mathbb{F}_q$. \n",
    "The degree of any variable in each term does not exceed 1. "
   ]
  }
 ],
 "metadata": {
  "language_info": {
   "name": "python"
  }
 },
 "nbformat": 4,
 "nbformat_minor": 2
}
