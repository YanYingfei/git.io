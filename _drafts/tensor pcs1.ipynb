{
 "cells": [
  {
   "cell_type": "markdown",
   "metadata": {},
   "source": [
    "### Spatan Polynomial IOP\n",
    "\n",
    "For an R1CS instance $X = (\\mathbb{F}, A, B, C, M, N, io)$, the matrices $A, B, C$ are interpreted as functions mapping domain $\\{0,1\\}^{\\log M} \\times \\{0,1\\}^{\\log M}$ to $\\mathbb{F}$ by converting binary to decimal representation.\n",
    "\n",
    "At the start of the protocol, the prover sends a single $(\\log M-1)$-variate multilinear polynomial $\\tilde{W}$, and\n",
    "the verifier has a query access to three additional $2 \\log M$-variate multilinear polynomials $\\tilde{A, B}$ and $\\tilde{C}$.\n",
    "\n",
    "the verifier makes a single evaluation query to each of the four polynomials $\\tilde{W}, \\tilde{A, B}$ and $\\tilde{C}$, and otherwise performs $O(\\log M)$ operations over $\\mathbb{F}$; \n",
    "\n",
    "the prescribed prover performs $O(N)$ operations over $\\mathbb{F}$ to compute its messages over the course of the\n",
    "polynomial IOP (and to compute answers to the verifier's four queries to $\\tilde{W}, \\tilde{A, B}$ and $\\tilde{C}$).\n",
    "\n",
    "The protocol goes as follows:\n",
    "1. The prover sends a $(\\log M -1)$-variate multilinear polynomial $\\tilde{W}$ as an oracle.\n",
    "2. The verifier chooses a randomness $\\tau \\gets \\mathbb{F}^s$.\n",
    "3. Interaction: Both parties run the sumcheck reduction for the R1CS instance:\n",
    "$$ \\sum_{x \\in \\{0,1\\}^s} \\tilde{eq}(\\tau,x) \\cdot \\left( \\left( \\sum_{y\\in\\{0,1\\}^s} \\tilde{A}(x,y) \\tilde{Z}(y) \\right) \\left( \\sum_{y\\in\\{0,1\\}^s} \\tilde{B}(x,y) \\tilde{Z}(y) \\right) -\\sum_{y\\in\\{0,1\\}^s}\\tilde{C}(x,y) \\tilde{Z}(y) \\right) = 0.$$\n",
    "4. The verifier checks:\n",
    "    - $\\tilde{A}(r_x,r_y) = v_A$, $\\tilde{B}(r_x,r_y) = v_B$ and $\\tilde{C}(r_x,r_y) = v_C$ reduced by the sumcheck.\n",
    "    - $\\tilde{Z}(r_y) = v_Z$ by checking $v_Z = (1- r_y[1]) \\cdot v_W + r_y[1] \\cdot (io,1)(r_y[2..])$ where $r_y[2..]$ refers to a slide of $r_y$ without the first element of $r_y$, and $v_W \\gets \\tilde{W}(r_y[2..])$ via an oracle query.\n",
    "\n",
    "\\textbf{Soundness.} the soundness error for the depicted polynomial IOP is at most $O(\\log M)/ |\\mathbb{F}|$.\n",
    "\n",
    "\\textbf{Round and communication complexity.} The sumcheck protocol is applied 4 times (although 3 of the\n",
    "invocations occur in parallel and in practice combined into one). In each invocation, the polynomial to\n",
    "which the sumcheck protocol is applied has degree at most 3 in each variable, and the number of variables\n",
    "is $s = \\log M$. Hence, the round complexity of the polynomial IOP is $O(\\log M)$. Since each polynomial has\n",
    "degree at most 3 in each variable, the total communication cost is $O(\\log M)$ field elements.\n",
    "\n",
    "\\textbf{Verifier time.}\n",
    "\n",
    "\\textbf{Prover time.}\n",
    "\n",
    "\n"
   ]
  }
 ],
 "metadata": {
  "language_info": {
   "name": "python"
  }
 },
 "nbformat": 4,
 "nbformat_minor": 2
}
