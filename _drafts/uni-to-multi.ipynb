{
 "cells": [
  {
   "cell_type": "markdown",
   "metadata": {},
   "source": [
    "FRI-based PCS\n",
    "\n",
    "## How FRI works\n",
    "A FRI protocol is a protocol for proving that a function $f : H \\to \\mathbb{F}$ is closed to a polynomial of low degree $d$, where $d \\ll |H|$. \n",
    "The FRI PCS outputs the root of the Merkle tree as the commitment to the function $f$ while the FRI protocol consists of the evaluation proof.\n",
    "The protocol can be divided into two phases: commit and query.\n",
    "In the commit phash, the prover commits to (via Merkle trees) a series of functions generated from $f$ and random elements $v_0, v_1, ... $ from $\\mathbb{K}$ provided by the verifier at each round. \n",
    "Then in the query phase, the prover provides a set of evaluations of the previously committed functions at a point randomly chosen by the verifier."
   ]
  },
  {
   "cell_type": "markdown",
   "metadata": {},
   "source": [
    "### Commit Phase\n",
    "Denote by $p_0$ the function of low degree. \n",
    "In the commit phase, the polynomial $p_0$ is split into two polynomials $g_{0,1}, g_{0,2} : H^2 \\to \\mathbb{K}$ of degree lower than $d/2$ such that:\n",
    "$$p_0(X) = g_{0,1}(X^2) + X g_{0,2}(X^2).$$\n",
    "\n",
    "Then, the verifier sends a uniform randomness $v_0 \\in \\mathbb{K}$ and ask the prover to commit to the polynomial: $p_1(X) = g_{0,1}(X) + v_0 g_{0,2}(X)$.\n",
    "Note that $p_1$ is a polynomial of degree less than $d/2$ and the commitment of $p_1$ is not over $H$ but over $H^2 = \\{x^2 : x \\in H \\}$.\n",
    "\n",
    "The prover then continues by splitting $p_1$ into $g_{1,1}$ and $g_{1,2}$ of degree lower than $d/4$, and constructs $p_2$ with a uniformly sampled $v_1 \\in \\mathbf{K}$ sent by the verifier.\n",
    "\n",
    "This above interaction iterates $k = \\log d$ times.\n",
    "At last, $deg(p_k) = 0$ and the prover sends a constant $p_k$, representing a polynomial of degree lower than 1, to the verifier. "
   ]
  },
  {
   "cell_type": "markdown",
   "metadata": {},
   "source": [
    "### Query Phase\n",
    "In the query phase, the verifier sends a randomness $r \\in H$ to the prover and queries the evaluations $p_0(r), p_0(-r)$ and $p_1(r_2)$.\n",
    "From $p_0(r), p_0(-r)$ the verifier computes $p_1(r^2)$ and checks that the computed value matches $p_1(r^2)$ sent by the prover.\n",
    "In detail, $p_1(r^2)$ can be obtained as follows:\n",
    "- $p_0(r) = g_{0,1}(r^2) + r\\cdot g_{0,2}(r^2)$;\n",
    "- $p_0(-r) = g_{0,1}(r^2) - r\\cdot g_{0,2}(r^2)$;\n",
    "- $p_1(r^2) = g_{0,1}(r^2) + v_0\\cdot g_{0,2}(r^2)$.\n",
    "\n",
    "In the next interaction, the verifier queries $p_1(-r^2)$ and $p_2(r^4)$ and checks the consistency between $p_1, p_2$ as before.\n",
    "The interaction repeats till the constant $p_k$. \n",
    "The verifier checks that the value sent by the prover is indeed equal to the value that the verifier computed from the queries up until $p_{k-1}$.\n",
    "To fully ensure correctness, the prover must accompany the evaluations that she sends with a claim of their existence (via Merkle tree paths).\n",
    "Upon the completion of this process, the verifier has a first confirmation that the polynomials committed in the commit phase $p_0, p_1, . . . , p_k$ are consistent with each other.\n",
    "\n",
    "Finally, to achieve the required bounds for the soundness of the protocol, the query phase is repeated multiple times."
   ]
  },
  {
   "cell_type": "code",
   "execution_count": null,
   "metadata": {
    "vscode": {
     "languageId": "plaintext"
    }
   },
   "outputs": [],
   "source": [
    " import numpy as np\n",
    "from hashlib import sha256\n",
    "\n",
    "class FRI:\n",
    "    def __init__(self, domain, degree, randomness_source):\n",
    "        \"\"\"\n",
    "        Initialize the FRI protocol.\n",
    "\n",
    "        :param domain: The evaluation domain H.\n",
    "        :param degree: The degree of the polynomial.\n",
    "        :param randomness_source: A function providing uniform random elements.\n",
    "        \"\"\"\n",
    "        self.domain = np.array(domain)\n",
    "        self.degree = degree\n",
    "        self.randomness_source = randomness_source\n",
    "        self.commitments = []\n",
    "        self.queries = []\n",
    "        self.proofs = []\n",
    "\n",
    "    def commit_phase(self, poly_coeffs):\n",
    "        \"\"\"\n",
    "        Execute the commit phase.\n",
    "\n",
    "        :param poly_coeffs: Coefficients of the polynomial p0.\n",
    "        \"\"\"\n",
    "        current_poly = poly_coeffs\n",
    "        for _ in range(int(np.log2(self.degree))):\n",
    "            # Split polynomial into g0 and g1\n",
    "            g0, g1 = self._split_polynomial(current_poly)\n",
    "\n",
    "            # Verifier sends randomness\n",
    "            v = self.randomness_source()\n",
    "\n",
    "            # Compute next polynomial p_i\n",
    "            current_poly = g0 + v * g1\n",
    "\n",
    "            # Commit to p_i\n",
    "            commitment = self._merkle_commit(current_poly)\n",
    "            self.commitments.append(commitment)\n",
    "\n",
    "        # Final degree-0 polynomial\n",
    "        self.proofs.append(current_poly[0])\n",
    "        \n",
    "        def query_phase(self, verifier_randomness):\n",
    "        \"\"\"\n",
    "        Execute the query phase.\n",
    "\n",
    "        :param verifier_randomness: Random elements chosen by the verifier for querying.\n",
    "        \"\"\"\n",
    "        for r in verifier_randomness:\n",
    "            # Query p0(r) and p0(-r)\n",
    "            p0_r = self._evaluate_polynomial(self.commitments[0], r)\n",
    "            p0_minus_r = self._evaluate_polynomial(self.commitments[0], -r)\n",
    "\n",
    "            # Compute p1(r^2)\n",
    "            r_squared = r**2\n",
    "            g0_r2 = (p0_r + p0_minus_r) / 2\n",
    "            g1_r2 = (p0_r - p0_minus_r) / (2 * r)\n",
    "            p1_r2 = g0_r2 + self.randomness_source() * g1_r2\n",
    "\n",
    "            # Check consistency\n",
    "            self.queries.append((r, p0_r, p0_minus_r, p1_r2))\n",
    "\n",
    "    def verify(self):\n",
    "        \"\"\"\n",
    "        Verify the consistency of the commitments and queries.\n",
    "\n",
    "        :return: True if the protocol is valid, False otherwise.\n",
    "        \"\"\"\n",
    "        for r, p0_r, p0_minus_r, p1_r2 in self.queries:\n",
    "            # Compute g0(r^2) and g1(r^2) from p0\n",
    "            g0_r2 = (p0_r + p0_minus_r) / 2\n",
    "            g1_r2 = (p0_r - p0_minus_r) / (2 * r)\n",
    "\n",
    "            # Compute expected p1(r^2)\n",
    "            v = self.randomness_source()\n",
    "            expected_p1_r2 = g0_r2 + v * g1_r2\n",
    "\n",
    "            # Check consistency\n",
    "            if not np.isclose(p1_r2, expected_p1_r2):\n",
    "                return False\n",
    "        return True\n",
    "\n",
    "    def _split_polynomial(self, coeffs):\n",
    "        \"\"\"\n",
    "        Split the polynomial into two sub-polynomials g0 and g1.\n",
    "\n",
    "        :param coeffs: Coefficients of the polynomial.\n",
    "        :return: Coefficients of g0 and g1.\n",
    "        \"\"\"\n",
    "        g0 = coeffs[::2]  # Even coefficients\n",
    "        g1 = coeffs[1::2]  # Odd coefficients\n",
    "        return g0, g1\n",
    "\n",
    "    def _evaluate_polynomial(self, coeffs, x):\n",
    "        \"\"\"\n",
    "        Evaluate a polynomial at a given point.\n",
    "\n",
    "        :param coeffs: Coefficients of the polynomial.\n",
    "        :param x: Point to evaluate at.\n",
    "        :return: Evaluated value.\n",
    "        \"\"\"\n",
    "        return sum(c * x**i for i, c in enumerate(coeffs))\n",
    "\n",
    "    def _merkle_commit(self, data):\n",
    "        \"\"\"\n",
    "        Generate a Merkle tree root as a commitment.\n",
    "\n",
    "        :param data: Data to commit.\n",
    "        :return: Root of the Merkle tree.\n",
    "        \"\"\"\n",
    "        leaves = [sha256(bytes(str(d), 'utf-8')).digest() for d in data]\n",
    "        while len(leaves) > 1:\n",
    "            leaves = [sha256(leaves[i] + leaves[i + 1]).digest() for i in range(0, len(leaves), 2)]\n",
    "        return leaves[0]"
   ]
  },
  {
   "cell_type": "markdown",
   "metadata": {},
   "source": [
    "Below, we take an example function $f = 1+2x +3x^2+4x^3$ to show how FRI works."
   ]
  },
  {
   "cell_type": "code",
   "execution_count": null,
   "metadata": {
    "vscode": {
     "languageId": "plaintext"
    }
   },
   "outputs": [],
   "source": [
    "# Example usage\n",
    "def random_element():\n",
    "    return np.random.rand()\n",
    "\n",
    "domain = [1, -1, 2, -2, 4, -4, 8, -8]\n",
    "degree = 4\n",
    "poly_coeffs = [1, 2, 3, 4]  # Coefficients for f = 1 + 2x + 3x^2 + 4x^3\n",
    "fri = FRI(domain, degree, random_element)\n",
    "\n",
    "# Commit phase\n",
    "fri.commit_phase(poly_coeffs)\n",
    "\n",
    "# Query phase\n",
    "verifier_randomness = [1, 2]\n",
    "fri.query_phase(verifier_randomness)\n",
    "\n",
    "# Verify\n",
    "assert fri.verify(), \"Verification failed!\""
   ]
  },
  {
   "cell_type": "markdown",
   "metadata": {},
   "source": [
    "## Codes\n",
    "There are 8 files in Plonky3/fri/src: config.rs, fold_even_odd.rs, hiding_pcs.rs, proof.rs, prover.rs, two_adic_pcs, and verifier.rs.\n",
    "\n",
    "### config.rs\n",
    "There are two main functions in this code: FriConfig and FriGenericConfig.\n",
    "FriConfig defines the configuration parameters for the FRI protocol, including the blow-up factor (log_blowup), the number of queries(num_queries), and anti-attack parameters(proof_of_work_bits).\n",
    "FriGenericConfig provides an abstract interface for specific implementations of FRI, including fold_row and fold_matrix for folding opreation."
   ]
  },
  {
   "cell_type": "markdown",
   "metadata": {},
   "source": [
    "### fold_even_odd.rs\n",
    "This code implements a folding operation the fold_even_odd function:\n",
    "$p(x) = p_{even}(x^2) + x p_{odd}(x^2)$"
   ]
  },
  {
   "cell_type": "markdown",
   "metadata": {},
   "source": [
    "### hiding_pcs.rs\n",
    "This code implements a hiding pcs by adding random codewords."
   ]
  },
  {
   "cell_type": "markdown",
   "metadata": {},
   "source": [
    "### proof.rs\n",
    "combine communications into proofs.\n",
    "1. FriProof\n",
    "2. QueryProof\n",
    "3. CommitPhaseProofStep"
   ]
  },
  {
   "cell_type": "markdown",
   "metadata": {},
   "source": [
    "### Prover.rs\n",
    "function Prove.\n",
    "main stage: commit -> challenge -> query ->pack proofs\n",
    "\n",
    "commit\n",
    "answer_query"
   ]
  },
  {
   "cell_type": "markdown",
   "metadata": {},
   "source": [
    "### two_adic_pcs.rs\n",
    "FRI over two-adic field.\n",
    "\n",
    "1. define sturct TwoAdicFriPcs\n",
    "2. a new TwoAdicFriPcs instance\n",
    "---------def-----------\n",
    "3. Generic config\n",
    "4. fold_row\n",
    "5. fold_matrix  \n",
    "--------config----------\n",
    "6. interface for TwoAdicFriPcs\n",
    "    - natural_domain_for_degree\n",
    "    - commit"
   ]
  },
  {
   "cell_type": "markdown",
   "metadata": {},
   "source": [
    "### verifier.rs\n",
    "function verify verify_query"
   ]
  }
 ],
 "metadata": {
  "language_info": {
   "name": "python"
  }
 },
 "nbformat": 4,
 "nbformat_minor": 2
}
