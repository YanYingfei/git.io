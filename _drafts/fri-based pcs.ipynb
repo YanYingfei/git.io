{
 "cells": [
  {
   "cell_type": "markdown",
   "metadata": {},
   "source": [
    "FRI-based PCS\n",
    "\n",
    "## 基本原理\n",
    "\n",
    "## 代码模块\n"
   ]
  }
 ],
 "metadata": {
  "language_info": {
   "name": "python"
  }
 },
 "nbformat": 4,
 "nbformat_minor": 2
}
