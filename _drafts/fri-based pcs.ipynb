{
 "cells": [
  {
   "cell_type": "markdown",
   "metadata": {},
   "source": [
    "FRI-based PCS\n",
    "\n",
    "## How FRI protocol works\n",
    "A FRI protocol is a protocol for proving that a function $f:H \\to \\mathbf{F}$ is closed to a polynomial of low degree $d$, where $d \\ll |H|$. \n",
    "It can be divided into two phases: commit and query.\n",
    "In the commit phash, the prover commits to (via Merkle trees) a series of functions generated from $f$ and random elements $v_0, v_1, ... $ from $\\mathbf{K}$ provided by the verifier at each round. \n",
    "Then in the query phase, the prover provides a set of evaluations of the previously committed functions at a point randomly chosen by the verifier.\n",
    "\n",
    "### Commit Phase\n",
    "Denote by $p_0$ the function of low degree.\n",
    "\n",
    "### Query Phase\n",
    "\n"
   ]
  },
  {
   "cell_type": "markdown",
   "metadata": {},
   "source": [
    "## Codes\n",
    "There are 8 files in Plonky3/fri/src: config.rs, fold_even_odd.rs, hiding_pcs.rs, proof.rs, prover.rs, two_adic_pcs, and verifier.rs.\n",
    "\n",
    "### config.rs\n",
    "There are two main functions in this code: FriConfig and FriGenericConfig.\n",
    "FriConfig defines the configuration parameters for the FRI protocol, including the blow-up factor (log_blowup), the number of queries(num_queries), and anti-attack parameters(proof_of_work_bits).\n",
    "FriGenericConfig provides an abstract interface for specific implementations of FRI, including fold_row and fold_matrix for folding opreation."
   ]
  },
  {
   "cell_type": "markdown",
   "metadata": {},
   "source": [
    "### fold_even_odd.rs\n",
    "This code implements a folding operation the fold_even_odd function:\n",
    "$p(x) = p_{even}(x^2) + x p_{odd}(x^2)$"
   ]
  },
  {
   "cell_type": "markdown",
   "metadata": {},
   "source": [
    "### hiding_pcs.rs\n",
    "This code implements a hiding pcs by adding random codewords."
   ]
  },
  {
   "cell_type": "markdown",
   "metadata": {},
   "source": [
    "### proof.rs\n",
    "combine communications into proofs.\n",
    "1. FriProof\n",
    "2. QueryProof\n",
    "3. CommitPhaseProofStep"
   ]
  },
  {
   "cell_type": "markdown",
   "metadata": {},
   "source": [
    "### Prover.rs\n",
    "function Prove.\n",
    "main stage: commit -> challenge -> query ->pack proofs\n",
    "\n",
    "commit\n",
    "answer_query"
   ]
  },
  {
   "cell_type": "markdown",
   "metadata": {},
   "source": [
    "### two_adic_pcs.rs\n",
    "FRI over two-adic field.\n",
    "\n",
    "1. define sturct TwoAdicFriPcs\n",
    "2. a new TwoAdicFriPcs instance\n",
    "---------def-----------\n",
    "3. Generic config\n",
    "4. fold_row\n",
    "5. fold_matrix  \n",
    "--------config----------\n",
    "6. interface for TwoAdicFriPcs\n",
    "    - natural_domain_for_degree\n",
    "    - commit"
   ]
  },
  {
   "cell_type": "markdown",
   "metadata": {},
   "source": [
    "### verifier.rs\n",
    "function verify verify_query"
   ]
  }
 ],
 "metadata": {
  "language_info": {
   "name": "python"
  }
 },
 "nbformat": 4,
 "nbformat_minor": 2
}
